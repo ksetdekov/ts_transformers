{
  "nbformat": 4,
  "nbformat_minor": 0,
  "metadata": {
    "orig_nbformat": 4,
    "colab": {
      "name": "pytorch_forecasting.ipynb",
      "provenance": [],
      "collapsed_sections": []
    },
    "language_info": {
      "name": "python"
    },
    "kernelspec": {
      "name": "python3",
      "display_name": "Python 3"
    }
  },
  "cells": [
    {
      "cell_type": "markdown",
      "metadata": {
        "id": "hv7BfUufHkUi"
      },
      "source": [
        "# Temporal Fusion Transformer"
      ]
    },
    {
      "cell_type": "code",
      "metadata": {
        "colab": {
          "base_uri": "https://localhost:8080/"
        },
        "id": "I54y6tgKHkUj",
        "outputId": "56a0c95c-56ed-4ad9-8866-59fff5ca95a0"
      },
      "source": [
        "from google.colab import drive\n",
        "drive.mount('/content/gdrive')\n",
        "\n",
        "\n",
        "%cd /content/gdrive/My Drive/Pump Data/\n",
        "!ls"
      ],
      "execution_count": 1,
      "outputs": [
        {
          "output_type": "stream",
          "name": "stdout",
          "text": [
            "Drive already mounted at /content/gdrive; to attempt to forcibly remount, call drive.mount(\"/content/gdrive\", force_remount=True).\n",
            "/content/gdrive/My Drive/Pump Data\n",
            "allpumps_nbeats.pth.tar       __pycache__\n",
            "allpumps_tcn_v1.pth.tar       tcn_valid_results.csv\n",
            "allpumps_transformer.pth.tar  test_results.csv\n",
            "data\t\t\t      transformers_valid_results.csv\n",
            "nbeats_valid_results.csv      utils.py\n"
          ]
        }
      ]
    },
    {
      "cell_type": "code",
      "metadata": {
        "id": "x7IrIzy_HkUk"
      },
      "source": [
        "!pip install matplotlib==3.1.3\n",
        "!pip install pytorch-forecasting"
      ],
      "execution_count": null,
      "outputs": []
    },
    {
      "cell_type": "markdown",
      "metadata": {
        "id": "DeT3PD-OJamP"
      },
      "source": [
        "в этом ноутбуке смотрим реализацию https://pytorch-forecasting.readthedocs.io/en/latest/api/pytorch_forecasting.models.temporal_fusion_transformer.TemporalFusionTransformer.html и считаем насколько они хорошо работают"
      ]
    },
    {
      "cell_type": "code",
      "metadata": {
        "id": "H8KuXKMlIWF6"
      },
      "source": [
        "import pytorch_lightning as pl\n",
        "from pytorch_lightning.callbacks import EarlyStopping, LearningRateMonitor\n",
        "\n",
        "from pytorch_forecasting import TimeSeriesDataSet, TemporalFusionTransformer\n"
      ],
      "execution_count": 2,
      "outputs": []
    },
    {
      "cell_type": "code",
      "metadata": {
        "id": "Jhk3TdMRKHvP"
      },
      "source": [
        "\n",
        "# load data\n",
        "data = ...\n"
      ],
      "execution_count": null,
      "outputs": []
    },
    {
      "cell_type": "code",
      "metadata": {
        "id": "4MjTOZtOKHuT"
      },
      "source": [
        "\n",
        "# define dataset\n",
        "max_encoder_length = 36\n",
        "max_prediction_length = 6\n",
        "training_cutoff = \"YYYY-MM-DD\"  # day for cutoff\n"
      ],
      "execution_count": null,
      "outputs": []
    },
    {
      "cell_type": "code",
      "metadata": {
        "id": "iiNKmZkeKKvq"
      },
      "source": [
        "\n",
        "training = TimeSeriesDataSet(\n",
        "    data[lambda x: x.date < training_cutoff],\n",
        "    time_idx= ...,\n",
        "    target= ...,\n",
        "    # weight=\"weight\",\n",
        "    group_ids=[ ... ],\n",
        "    max_encoder_length=max_encoder_length,\n",
        "    max_prediction_length=max_prediction_length,\n",
        "    static_categoricals=[ ... ],\n",
        "    static_reals=[ ... ],\n",
        "    time_varying_known_categoricals=[ ... ],\n",
        "    time_varying_known_reals=[ ... ],\n",
        "    time_varying_unknown_categoricals=[ ... ],\n",
        "    time_varying_unknown_reals=[ ... ],\n",
        ")\n"
      ],
      "execution_count": null,
      "outputs": []
    },
    {
      "cell_type": "code",
      "metadata": {
        "id": "Jhj3ixAnKMRv"
      },
      "source": [
        "\n",
        "# create validation and training dataset\n",
        "validation = TimeSeriesDataSet.from_dataset(training, data, min_prediction_idx=training.index.time.max() + 1, stop_randomization=True)\n",
        "batch_size = 128\n",
        "train_dataloader = training.to_dataloader(train=True, batch_size=batch_size, num_workers=2)\n",
        "val_dataloader = validation.to_dataloader(train=False, batch_size=batch_size, num_workers=2)\n"
      ],
      "execution_count": null,
      "outputs": []
    },
    {
      "cell_type": "code",
      "metadata": {
        "id": "D5JxuNjhKNla"
      },
      "source": [
        "\n",
        "# define trainer with early stopping\n",
        "early_stop_callback = EarlyStopping(monitor=\"val_loss\", min_delta=1e-4, patience=1, verbose=False, mode=\"min\")\n",
        "lr_logger = LearningRateMonitor()\n",
        "trainer = pl.Trainer(\n",
        "    max_epochs=100,\n",
        "    gpus=0,\n",
        "    gradient_clip_val=0.1,\n",
        "    limit_train_batches=30,\n",
        "    callbacks=[lr_logger, early_stop_callback],\n",
        ")\n"
      ],
      "execution_count": null,
      "outputs": []
    },
    {
      "cell_type": "code",
      "metadata": {
        "id": "BaTYFH-JKO3Z"
      },
      "source": [
        "\n",
        "# create the model\n",
        "tft = TemporalFusionTransformer.from_dataset(\n",
        "    training,\n",
        "    learning_rate=0.03,\n",
        "    hidden_size=32,\n",
        "    attention_head_size=1,\n",
        "    dropout=0.1,\n",
        "    hidden_continuous_size=16,\n",
        "    output_size=7,\n",
        "    loss=QuantileLoss(),\n",
        "    log_interval=2,\n",
        "    reduce_on_plateau_patience=4\n",
        ")\n"
      ],
      "execution_count": null,
      "outputs": []
    },
    {
      "cell_type": "code",
      "metadata": {
        "id": "x3jANB-mKQh8"
      },
      "source": [
        "\n",
        "print(f\"Number of parameters in network: {tft.size()/1e3:.1f}k\")\n"
      ],
      "execution_count": null,
      "outputs": []
    },
    {
      "cell_type": "code",
      "metadata": {
        "id": "C_jEh9VRKTkI"
      },
      "source": [
        "\n",
        "# find optimal learning rate (set limit_train_batches to 1.0 and log_interval = -1)\n",
        "res = trainer.tuner.lr_find(\n",
        "    tft, train_dataloader=train_dataloader, val_dataloaders=val_dataloader, early_stop_threshold=1000.0, max_lr=0.3,\n",
        ")\n",
        "\n",
        "print(f\"suggested learning rate: {res.suggestion()}\")"
      ],
      "execution_count": null,
      "outputs": []
    },
    {
      "cell_type": "code",
      "metadata": {
        "id": "PPGcGnOfKUvf"
      },
      "source": [
        "\n",
        "fig = res.plot(show=True, suggest=True)\n",
        "fig.show()\n"
      ],
      "execution_count": null,
      "outputs": []
    },
    {
      "cell_type": "code",
      "metadata": {
        "id": "54ZRZIzGKV_r"
      },
      "source": [
        "\n",
        "# fit the model\n",
        "trainer.fit(\n",
        "    tft, train_dataloader=train_dataloader, val_dataloaders=val_dataloader,\n",
        ")"
      ],
      "execution_count": null,
      "outputs": []
    }
  ]
}